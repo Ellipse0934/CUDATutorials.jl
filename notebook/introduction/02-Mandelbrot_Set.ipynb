{
 "cells": [
  {
   "cell_type": "markdown",
   "source": [
    "# Mandelbrot Set\n",
    "In the last tutorial we got a brief overview of the architecture of a GPU. In this tutorial We will elborate a bit more on Grid configuration and compute the mandelbrot set on the GPU.\n",
    "\n",
    "\n",
    "## Grid configuration\n",
    "\n",
    "When we launch a CUDA kernel we use the syntax `@cuda blocks=x threads=y f(a, b, c...)` where `f` is the function and `a, b, c...` are its arguments.\n",
    "\n",
    "The `blocks` and `threads` options to `@cuda` are used to specify the **grid** configuration of the kernel which is being launched.\n",
    "\n",
    "`blocks` specifies the dimension and the size of the grid of blocks. This can be one, two or three dimensional. The reason for having multiple dimensions is to make it easier to express algorithms which index over two or three dimensional spaces.\n",
    "\n",
    "`threads` specifies the *cooperative thread array* (CTA). Threads in the same CTA have access to better coordination and communication utilities. CTA's can also two or three dimensional for convenient indexing.\n",
    "\n",
    "There are restrictions related to the grid given below.\n",
    "* Maximum x-dimension of a grid of thread blocks : $2^{31} - 1$\n",
    "* Maximum y-, or z-dimension of a grid of thread blocks : $65535 (2^{16} - 1)$\n",
    "* Maximum x- or y-dimension of a CTA: $1024$\n",
    "* Maximum z-dimension of a CTA: $64$\n",
    "* Maximum number of threads per block: $1024$\n",
    "\n",
    "Now let's go back to our SAXPY example and verify the flexibility in choosing grid configurations."
   ],
   "metadata": {}
  },
  {
   "outputs": [],
   "cell_type": "code",
   "source": [
    "using CUDA, BenchmarkTools\n",
    "\n",
    "function gpu_axpy!(A, X, Y)\n",
    "    # set tid to thread rank\n",
    "    tid = (blockIdx().x - 1) * blockDim().x + threadIdx().x\n",
    "    tid > length(X) && return\n",
    "    Y[tid] = A*X[tid] + Y[tid]\n",
    "    return\n",
    "end\n",
    "\n",
    "N = 2^20\n",
    "gpu_v1 = CUDA.rand(N)\n",
    "gpu_v2 = CUDA.rand(N)\n",
    "gpu_v3 = copy(gpu_v2)\n",
    "\n",
    "α = 0.48\n",
    "gpu_v2 .+= α * gpu_v1\n",
    "\n",
    "function verify_grid(args, result, numthreads, numblocks = cld(N, numthreads))\n",
    "    u = copy(args[3])\n",
    "\n",
    "    @cuda threads=numthreads blocks=numblocks gpu_axpy!(args...)\n",
    "    println(\"Explicit kernel launch with threads=$numthreads and blocks=$numblocks is correct: \"\n",
    "    ,result == args[3])\n",
    "\n",
    "    args[3] = u\n",
    "    return\n",
    "end\n",
    "\n",
    "args = [α, gpu_v1, gpu_v3]\n",
    "\n",
    "verify_grid(args, gpu_v2, 1024)\n",
    "verify_grid(args, gpu_v2, 1)\n",
    "verify_grid(args, gpu_v2, 33)"
   ],
   "metadata": {},
   "execution_count": null
  },
  {
   "cell_type": "markdown",
   "source": [
    "## Occupancy\n",
    "\n",
    "The above exercise shows the flexibility in deciding grid configuration. However this raises an important question of how the configuration affects performance. The best way to determine is to actually measure what works best in a given scenario however that may prove to be cumbersome for most workflows. Expecially while developing an application it may not be worth our time to find the optimal configuration.\n",
    "\n",
    "While each SM(streaming multiprocessor) might be executing 100's of threads from the perspective of the programmer, the GPU Hardware deals with `warps`. Each warp is a set of fixed number of threads(32 on NVIDIA hardware). Scheduling and issuing instructions is done at a per warp basis rather than a per thread basis. There is atleast one *warp scheduler* inside each SM whose job it is to keep the SM as busy as possible. Switching between warps(context switch) is extremely fast and essential to hide latencies such as global memory access. Whenever a warp stalls another warp is immediately switched to.\n",
    "\n",
    "Coming back to out original question of how to determine the optimal grid configuration. One possible solution is to use the occupancy heurestic. $\\mbox{occupancy} = \\frac{\\mbox{active warps}}{\\mbox{maximum number of active warps}}$.\n",
    "Since each SM has a finite amount of resources. As the number of resources per thread increases, fewer of them can be concurrently executed. Occupancy can limited by register usage, shared memory and block size.\n",
    "\n",
    "The `launch_configuration` function analyses the kernel's resource usage and suggests a configuration that maximises occupancy."
   ],
   "metadata": {}
  },
  {
   "outputs": [],
   "cell_type": "code",
   "source": [
    "@show kernel_args = cudaconvert((α, gpu_v1, gpu_v3)) # Convert to GPU friendly types\n",
    "@show kernel_tt = Tuple{Core.Typeof.(kernel_args)...}\n",
    "kernel = cufunction(gpu_axpy!, kernel_tt)\n",
    "kernel_config = launch_configuration(kernel.fun, shmem = 0)"
   ],
   "metadata": {},
   "execution_count": null
  },
  {
   "cell_type": "markdown",
   "source": [
    "For our example the configurator returns 20 blocks and 1024 threads. The occupancy API does not understand what our kernel is doing, it can only see the input types and the function definition. It's our job to figure out if the suggested configuration will work or not. It's best to keep the suggested block size in account while deciding the launch config.\n",
    "\n",
    "For this example it's perhaps best to set the block size to 1024 and determine the grid size based on that.\n",
    "\n",
    "# Mandelbrot Set\n",
    "\n",
    "A popular example of mathematical visualization is the Mandelbrot set. Mathematically it is defined as the set of [complex numbers](https://simple.wikipedia.org/wiki/Complex_number) $c$ such $f_c(z) = z^2 + c$ is bounded.\n",
    "\n",
    "In other words:\n",
    "* ‎‎$Z_0 = 0$‎\n",
    "* $Z_{n + 1} = {Z_n}^2 + c$\n",
    "* $c$ is in the mandelbrot set if the value of $Z_{n}$ is bounded.\n",
    "\n",
    "It can be mathematically shown $|Z_n| \\leq 2.0 $ for bounded points."
   ],
   "metadata": {}
  },
  {
   "outputs": [],
   "cell_type": "code",
   "source": [
    "using Images\n",
    "\n",
    "img = rand(Bool, 10, 10)\n",
    "Gray.(img)"
   ],
   "metadata": {},
   "execution_count": null
  },
  {
   "outputs": [],
   "cell_type": "code",
   "source": [
    "dims = (3000, 3000)\n",
    "\n",
    "mset = Array{Bool, 2}(undef, dims)\n",
    "\n",
    "function mandelbrot_cpu(mset::AbstractArray, dims, iterations)\n",
    "    origin = CartesianIndex(div.(dims, (2, 2), RoundUp))\n",
    "    for ind in CartesianIndices(mset)\n",
    "        # Compute coordinates for true canvas\n",
    "        coordinates = Tuple(ind - origin) ./ 1000.\n",
    "        c = ComplexF32(coordinates[1]im + coordinates[2])\n",
    "        mset[ind] = mandelbrot(c, iterations)\n",
    "    end\n",
    "end\n",
    "\n",
    "function mandelbrot(c, iterations)\n",
    "    z = ComplexF32(0, 0)\n",
    "    for i in 1:iterations\n",
    "        z = z^2 + c\n",
    "        abs(z) > 2.0 && return false\n",
    "    end\n",
    "    return true\n",
    "end"
   ],
   "metadata": {},
   "execution_count": null
  },
  {
   "outputs": [],
   "cell_type": "code",
   "source": [
    "mandelbrot_cpu(mset, dims, 32)\n",
    "Gray.(mset)"
   ],
   "metadata": {},
   "execution_count": null
  },
  {
   "cell_type": "markdown",
   "source": [
    "This black and white image is no fun. To add color let's map a color to the number iterations it took $z$ to become greater than two."
   ],
   "metadata": {}
  },
  {
   "outputs": [],
   "cell_type": "code",
   "source": [
    "mset_color = Array{UInt8}(undef, dims)\n",
    "function mandelbrot(c, iterations)\n",
    "    z = ComplexF32(0, 0)\n",
    "    for i in 1:iterations\n",
    "        z = z^2 + c\n",
    "        abs2(z) > 4.0 && return i % UInt8\n",
    "    end\n",
    "    return zero(UInt8)\n",
    "end\n",
    "mandelbrot_cpu(mset_color, dims, 32)"
   ],
   "metadata": {},
   "execution_count": null
  },
  {
   "outputs": [],
   "cell_type": "code",
   "source": [
    "cmap = colormap(\"RdBu\", 32 + 1)"
   ],
   "metadata": {},
   "execution_count": null
  },
  {
   "outputs": [],
   "cell_type": "code",
   "source": [
    "map(x -> cmap[x + 1], mset_color)"
   ],
   "metadata": {},
   "execution_count": null
  },
  {
   "cell_type": "markdown",
   "source": [
    "Our task is to move this computation to the GPU. The tricky part with moving to the GPU is that the idexing gets tricky. We can use 1-D indexing then figure out inside the kernel what our 2-D index is or use 2-D index from the get go."
   ],
   "metadata": {}
  },
  {
   "outputs": [],
   "cell_type": "code",
   "source": [
    "mset_gpu = CuArray{UInt8}(undef, dims)\n",
    "function mandelbrot_gpu(mset::AbstractArray, dims, iterations)\n",
    "    ind = CartesianIndex((blockIdx().y - 1)*blockDim().y + threadIdx().y,\n",
    "                        (blockIdx().x - 1)*blockDim().x + threadIdx().x)\n",
    "    # Check if index is valid, if not then exit\n",
    "    !(ind in CartesianIndices(dims)) && return\n",
    "    origin = CartesianIndex(div.(dims, (2, 2), RoundUp))\n",
    "\n",
    "    # Scale the 3000x3000 image to -1.5 to 1.5\n",
    "    coordinates = Tuple(ind - origin) ./ 1000.\n",
    "    c = ComplexF32(coordinates[1]im + coordinates[2]) # x + yi\n",
    "    mset[ind] = mandelbrot(c, iterations)\n",
    "    return\n",
    "end"
   ],
   "metadata": {},
   "execution_count": null
  },
  {
   "outputs": [],
   "cell_type": "code",
   "source": [
    "blkdim = (16, 16)\n",
    "@cuda blocks=cld.(dims, blkdim) threads=blkdim mandelbrot_gpu(mset_gpu, dims, 32)"
   ],
   "metadata": {},
   "execution_count": null
  },
  {
   "outputs": [],
   "cell_type": "code",
   "source": [
    "# copy back to host and display the same image\n",
    "map(x -> cmap[x + 1], Array(mset_gpu))"
   ],
   "metadata": {},
   "execution_count": null
  },
  {
   "cell_type": "markdown",
   "source": [
    "## Thread Divergence\n",
    "\n",
    "We mentioned in the last tutorial that threads in a warp execute the same instruction. This was not the entire picture as you can guess from the mandelbrot set example. Inside the `mandelbrot` inner loop we have consecutive threads exiting at different points during iteration.\n",
    "\n",
    "\n",
    "```julia\n",
    "    for i in 1:iterations\n",
    "        z = z^2 + c\n",
    "        abs2(z) > 4.0 && return i % UInt8\n",
    "    end\n",
    "```\n",
    "\n",
    "When threads of the same warp are following different execution paths we call it thread divergence. Even when 1 thread out of 32 follows takes a different branch there is thread divergence.\n",
    "\n",
    "For example\n",
    "\n",
    "```julia\n",
    "if threadIdx().x % 2 == 0\n",
    "    # Do something\n",
    "else\n",
    "    # Do something else\n",
    "end\n",
    "```\n",
    "\n",
    "In the above example threads with an even index will follow the first path and the odd indexed ones will follow the second path. Inside the GPU when a branching condition is evaluated a 32-bit mask is generated for that warp (1-bit for each lane). All lanes whose corresponding mask bit is true will be active and the remaining lanes will be idle. When execution reaches a convergence point, the mask is inverted so that all lanes which were idle become active and vice versa. This kind of an IF-ELSE branch has 50% efficiency. Even if a single thread had diverged (say condition was `threadIdx().x % 32 == 0`) we would still be at 50% efficiency. However, nesting IF-ELSE will further reduce efficiency.\n",
    "\n",
    "In our mandelbrot example while we definitely had a lot of thread divergence it was still beneficial because threads in a warp represented physically close pixels which diverge less.\n",
    "\n",
    "Also, note that thread divergence refers to intra-warp divergence rather than inter-warp divergence which does not matter to performance. Because doing work efficiently at the warp level is extremely important for performance we will consider it while writing algorithms. In addition there are a number of functions that work at the warp-level such as `sync_warp()`and `shfl_up_sync()`. We will explore these in the `reduction` and `prefix scan` tutorials."
   ],
   "metadata": {}
  }
 ],
 "nbformat_minor": 3,
 "metadata": {
  "language_info": {
   "file_extension": ".jl",
   "mimetype": "application/julia",
   "name": "julia",
   "version": "1.5.0"
  },
  "kernelspec": {
   "name": "julia-1.5",
   "display_name": "Julia 1.5.0",
   "language": "julia"
  }
 },
 "nbformat": 4
}
